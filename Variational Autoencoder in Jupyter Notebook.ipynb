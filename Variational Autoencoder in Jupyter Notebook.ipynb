{
 "cells": [
  {
   "cell_type": "code",
   "execution_count": null,
   "metadata": {},
   "outputs": [],
   "source": [
    "from __future__ import print_function\n",
    "import argparse\n",
    "import torch\n",
    "import torch.utils.data\n",
    "from torch import nn, optim\n",
    "from torch.nn import functional as F\n",
    "from torchvision import datasets, transforms\n",
    "from torchvision.utils import save_image"
   ]
  },
  {
   "cell_type": "code",
   "execution_count": null,
   "metadata": {},
   "outputs": [],
   "source": [
    "batch_size = 128\n",
    "epochs = 10\n",
    "cuda = False\n",
    "seed = 1\n",
    "log_interval = 1\n",
    "lmbda = 10"
   ]
  },
  {
   "cell_type": "code",
   "execution_count": null,
   "metadata": {},
   "outputs": [],
   "source": [
    "device = torch.device(\"cpu\")\n",
    "kwargs = {}"
   ]
  },
  {
   "cell_type": "markdown",
   "metadata": {},
   "source": [
    "* Need to get the data\n",
    "* Need to get the model to read in the data\n",
    "* Need to get the model to have regression output\n",
    "* Need the loss function to be L2 loss\n",
    "* Need the loss function to be the rank function loss as well"
   ]
  },
  {
   "cell_type": "markdown",
   "metadata": {},
   "source": [
    "# Below is a base case just to make sure things run"
   ]
  },
  {
   "cell_type": "code",
   "execution_count": null,
   "metadata": {},
   "outputs": [],
   "source": [
    "import numpy as np"
   ]
  },
  {
   "cell_type": "code",
   "execution_count": null,
   "metadata": {},
   "outputs": [],
   "source": [
    "import pandas as pd\n",
    "\n",
    "X = pd.read_csv(\"clusters2.csv\")\n",
    "X[\"label\"] = X.index.values//50 + 1"
   ]
  },
  {
   "cell_type": "code",
   "execution_count": null,
   "metadata": {},
   "outputs": [],
   "source": [
    "X = X[[\"Var1\",\"Var2\",\"Var3\",\"Var4\",\"label\"]].as_matrix()\n",
    "print(X[1:5,:5])"
   ]
  },
  {
   "cell_type": "code",
   "execution_count": null,
   "metadata": {},
   "outputs": [],
   "source": [
    "#cov1 = np.diag([1 for i in range(4)])\n",
    "#mu1 = np.array([10,10,0,0])\n",
    "#mu2 = np.array([0,-5,0,-5])\n",
    "#n=100\n",
    "#X1 = np.random.multivariate_normal(mean=mu1,cov=cov1,size=n)\n",
    "#X2 = np.random.multivariate_normal(mean=mu1[::-1],cov=cov1,size=n)\n",
    "##X3 = np.random.multivariate_normal(mean=mu2,cov=cov1,size=n)\n",
    "#X4 = np.random.multivariate_normal(mean=mu2[::-1],cov=cov1,size=n)\n",
    "#X = np.vstack((X1,X2))\n",
    "#X = np.vstack((X,X3))\n",
    "#X = np.vstack((X,X4))\n",
    "#labels = X[:,-1]\n",
    "#indices = X[:,0]\n",
    "#print(X[:,1:-1].shape)\n",
    "#X = X[:,1:-1]\n",
    "X = np.take(X,np.random.rand(X.shape[0]).argsort(),axis=0,out=X)\n",
    "#X = X.astype(float)\n",
    "labels = X[:,4]\n",
    "X = X[:,:4]\n",
    "my_x = [np.array(x1) for x1 in X]\n",
    "\n",
    "train_loader = torch.utils.data.DataLoader(my_x)\n",
    "test_loader = torch.utils.data.DataLoader(my_x)"
   ]
  },
  {
   "cell_type": "code",
   "execution_count": null,
   "metadata": {},
   "outputs": [],
   "source": [
    "class VAE(nn.Module):\n",
    "    def __init__(self):\n",
    "        super(VAE, self).__init__()\n",
    "\n",
    "        self.fc1 = nn.Linear(4, 20).double()\n",
    "        self.fc21 = nn.Linear(20, 2).double()\n",
    "        self.fc22 = nn.Linear(20, 2).double()\n",
    "        self.fc3 = nn.Linear(2, 20).double()\n",
    "        self.fc4 = nn.Linear(20, 4).double()\n",
    "\n",
    "    def encode(self, x):\n",
    "        h1 = F.relu(self.fc1(x))\n",
    "        return self.fc21(h1), self.fc22(h1)\n",
    "\n",
    "    def reparameterize(self, mu, logvar):\n",
    "        std = torch.exp(0.5*logvar)\n",
    "        eps = torch.randn_like(std)\n",
    "        return mu + eps*std\n",
    "\n",
    "    def decode(self, z):\n",
    "        h3 = F.relu(self.fc3(z))\n",
    "        return self.fc4(h3)\n",
    "\n",
    "    def forward(self, x):\n",
    "        mu, logvar = self.encode(x.view(4))\n",
    "        z = self.reparameterize(mu, logvar)\n",
    "        return self.decode(z), mu, logvar\n",
    "\n"
   ]
  },
  {
   "cell_type": "code",
   "execution_count": null,
   "metadata": {},
   "outputs": [],
   "source": [
    "model = VAE().to(device)\n",
    "optimizer = optim.Adam(model.parameters(), lr=1e-3)\n"
   ]
  },
  {
   "cell_type": "code",
   "execution_count": null,
   "metadata": {},
   "outputs": [],
   "source": [
    "from sklearn.metrics.pairwise import euclidean_distances\n",
    "from scipy.stats import rankdata\n",
    "d0 = np.array(euclidean_distances(X))\n",
    "#d1 = np.array(euclidean_distances(X_hat2))"
   ]
  },
  {
   "cell_type": "code",
   "execution_count": null,
   "metadata": {},
   "outputs": [],
   "source": [
    "for i in range(800):\n",
    "    d0[:,i] = rankdata(d0[:,i])\n",
    "#    d1[:,i] = rankdata(d1[:,i])"
   ]
  },
  {
   "cell_type": "code",
   "execution_count": null,
   "metadata": {},
   "outputs": [],
   "source": [
    "a = 6\n",
    "print(isinstance(a,int))"
   ]
  },
  {
   "cell_type": "code",
   "execution_count": null,
   "metadata": {},
   "outputs": [],
   "source": [
    "n=800"
   ]
  },
  {
   "cell_type": "code",
   "execution_count": null,
   "metadata": {},
   "outputs": [],
   "source": [
    "# Reconstruction + KL divergence losses summed over all elements and batch\n",
    "def loss_function(recon_x, x, ind, mu, logvar,epoch):\n",
    "    l2 = torch.nn.MSELoss()\n",
    "    loss2 = l2(recon_x.view(-1,4),x.view(-1,4))\n",
    "    \n",
    "    constraint = 0\n",
    "    r = d0[:,ind]\n",
    "    \n",
    "    if epoch>1000000:\n",
    "        for i in range(2,n):\n",
    "            for j in range(i+1,n):\n",
    "                try:\n",
    "                    ind1 = np.where(r==i)[0][0]\n",
    "                except:\n",
    "                    ind1 = np.where(r==i)[0]\n",
    "                try:\n",
    "                    ind2 = np.where(r==j)[0][0]\n",
    "                except:\n",
    "                    ind2 = np.where(r==j)[0]\n",
    "                try:\n",
    "                    mu0,logvar0 = model.encode(datas[ind])\n",
    "                    mu1,logvar1 = model.encode(datas[ind1])\n",
    "                    mu2,logvar2 = model.encode(datas[ind2])\n",
    "                    constraint += lmbda * (sum((mu0.detach().numpy()[0] - mu1.detach().numpy()[0])**2)<sum((mu0.detach().numpy()[0] - mu2.detach().numpy()[0])**2))\n",
    "                except:\n",
    "                    pass\n",
    "    # see Appendix B from VAE paper:\n",
    "    # Kingma and Welling. Auto-Encoding Variational Bayes. ICLR, 2014\n",
    "    # https://arxiv.org/abs/1312.6114\n",
    "    # 0.5 * sum(1 + log(sigma^2) - mu^2 - sigma^2)\n",
    "    KLD = -0.5 * torch.sum(1 + logvar - mu.pow(2) - logvar.exp())\n",
    "\n",
    "    return loss2 + KLD + constraint\n"
   ]
  },
  {
   "cell_type": "code",
   "execution_count": null,
   "metadata": {},
   "outputs": [],
   "source": [
    "datas = []\n",
    "for batch_idx,data in enumerate(train_loader):\n",
    "    datas.append(data)"
   ]
  },
  {
   "cell_type": "code",
   "execution_count": null,
   "metadata": {},
   "outputs": [],
   "source": [
    "def train(epoch):\n",
    "    model.train()\n",
    "    train_loss = 0\n",
    "    for batch_idx, data in enumerate(train_loader):\n",
    "        data = data.to(device)\n",
    "        optimizer.zero_grad()\n",
    "        recon_batch, mu, logvar = model(data)\n",
    "        loss = loss_function(recon_batch, data, batch_idx, mu, logvar,epoch)\n",
    "        loss.backward()\n",
    "        train_loss += loss.item()\n",
    "        optimizer.step()\n",
    "        if batch_idx % log_interval == 0:\n",
    "            print('Train Epoch: {} [{}/{} ({:.0f}%)]\\tLoss: {:.6f}'.format(\n",
    "                epoch, batch_idx * len(data), len(train_loader.dataset),\n",
    "                100. * batch_idx / len(train_loader),\n",
    "                loss.item() / len(data)))\n",
    "    \n",
    "    print('====> Epoch: {} Average loss: {:.4f}'.format(\n",
    "          epoch, train_loss / len(train_loader.dataset)))\n",
    "    return(train_loss)"
   ]
  },
  {
   "cell_type": "code",
   "execution_count": null,
   "metadata": {},
   "outputs": [],
   "source": [
    "def test(epoch):\n",
    "    model.eval()\n",
    "    test_loss = 0\n",
    "    with torch.no_grad():\n",
    "        for i, data in enumerate(test_loader):\n",
    "            data = data.to(device)\n",
    "            recon_batch, mu, logvar = model(data)\n",
    "            test_loss += loss_function(recon_batch, data, mu, logvar).item()\n",
    "    test_loss /= len(test_loader.dataset)\n",
    "    print('====> Test set loss: {:.4f}'.format(test_loss))"
   ]
  },
  {
   "cell_type": "code",
   "execution_count": null,
   "metadata": {},
   "outputs": [],
   "source": [
    "import time"
   ]
  },
  {
   "cell_type": "code",
   "execution_count": null,
   "metadata": {
    "scrolled": true
   },
   "outputs": [],
   "source": [
    "#train_loss = []\n",
    "start = time.time()\n",
    "for epoch in range(1, 4000 + 1):\n",
    "    tl = train(epoch)\n",
    "    train_loss.append(tl)\n",
    "end = time.time()\n",
    "print(end-start)"
   ]
  },
  {
   "cell_type": "code",
   "execution_count": null,
   "metadata": {},
   "outputs": [],
   "source": [
    "import matplotlib.pyplot as plt\n",
    "%matplotlib inline\n",
    "plt.plot(train_loss)\n",
    "plt.title(min(train_loss))"
   ]
  },
  {
   "cell_type": "code",
   "execution_count": null,
   "metadata": {},
   "outputs": [],
   "source": [
    "mus =[]\n",
    "logvars = []\n",
    "X_hat = []\n",
    "for i, data in enumerate(train_loader):\n",
    "    data = data.to(device)\n",
    "    mu, logvar = model.encode(data)\n",
    "    mus.append(mu)\n",
    "    logvars.append(logvar)\n",
    "    recon_batch, mu, logvar = model(data)\n",
    "    X_hat.append(recon_batch)"
   ]
  },
  {
   "cell_type": "code",
   "execution_count": null,
   "metadata": {},
   "outputs": [],
   "source": [
    "points = np.array([0,0])\n",
    "for point in mus:\n",
    "    p = point.detach().numpy()[0]\n",
    "    points = np.vstack((points,p))"
   ]
  },
  {
   "cell_type": "code",
   "execution_count": null,
   "metadata": {},
   "outputs": [],
   "source": [
    "plt.rcParams[\"image.cmap\"] = \"tab20\"\n",
    "plt.scatter(points[1:,0],points[1:,1],c=labels)\n",
    "plt.title(\"mu\")"
   ]
  },
  {
   "cell_type": "code",
   "execution_count": null,
   "metadata": {},
   "outputs": [],
   "source": [
    "points = np.array([0,0])\n",
    "for point in logvars:\n",
    "    p = point.detach().numpy()[0]\n",
    "    points = np.vstack((points,p))\n",
    "plt.rcParams[\"image.cmap\"] = \"tab20\"\n",
    "plt.scatter(points[1:,0],points[1:,1],c=labels)\n",
    "plt.title(\"logvar\")"
   ]
  },
  {
   "cell_type": "code",
   "execution_count": null,
   "metadata": {},
   "outputs": [],
   "source": [
    "points = np.array([0,0,0,0])\n",
    "for point in X_hat:\n",
    "    p = point.detach().numpy()\n",
    "    points = np.vstack((points,p))"
   ]
  },
  {
   "cell_type": "code",
   "execution_count": null,
   "metadata": {},
   "outputs": [],
   "source": [
    "X_hat2 = points[1:,]\n",
    "print(np.mean((X_hat2-X)**2))"
   ]
  },
  {
   "cell_type": "code",
   "execution_count": null,
   "metadata": {},
   "outputs": [],
   "source": [
    "print(X_hat2[1:3,])\n",
    "print(X[1:3,])\n",
    "print(X_hat2[1:3,] - X[1:3,])"
   ]
  },
  {
   "cell_type": "code",
   "execution_count": null,
   "metadata": {},
   "outputs": [],
   "source": [
    "np.max(X[:,1])"
   ]
  }
 ],
 "metadata": {
  "kernelspec": {
   "display_name": "Python 3",
   "language": "python",
   "name": "python3"
  },
  "language_info": {
   "codemirror_mode": {
    "name": "ipython",
    "version": 3
   },
   "file_extension": ".py",
   "mimetype": "text/x-python",
   "name": "python",
   "nbconvert_exporter": "python",
   "pygments_lexer": "ipython3",
   "version": "3.7.3"
  }
 },
 "nbformat": 4,
 "nbformat_minor": 2
}
